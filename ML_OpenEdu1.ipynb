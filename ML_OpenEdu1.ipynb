{
 "cells": [
  {
   "cell_type": "code",
   "execution_count": 68,
   "metadata": {},
   "outputs": [
    {
     "name": "stdout",
     "output_type": "stream",
     "text": [
      "            MIP      STDIP      EKIP       SIP         MC       STDC  \\\n",
      "97   102.320312  45.574104  0.321909  0.379148   4.402174  22.540145   \n",
      "155   80.640625  56.308821  1.481006  1.952136  27.807692  63.855448   \n",
      "221  102.507812  58.882430  0.465318 -0.515088   1.677258  14.860146   \n",
      "255  102.328125  48.980403  0.315729 -0.202183   1.898829  13.839040   \n",
      "564  102.351562  35.394339  0.409204  1.810187   6.056020  30.250449   \n",
      "\n",
      "           EKC          SC  TARGET  \n",
      "97    6.377098   47.256396       0  \n",
      "155   2.179750    3.354892       1  \n",
      "221  10.576487  127.393580       0  \n",
      "255  11.619939  172.130373       0  \n",
      "564   5.505104   31.174180       0  \n",
      "91.632\n",
      "(204, 9)\n"
     ]
    }
   ],
   "source": [
    "import numpy as np\n",
    "import pandas as pd\n",
    "\n",
    "\n",
    "data = pd.read_csv(\"Stars.csv\")\n",
    "df = pd.DataFrame(data)\n",
    "sel = df[(((df.MIP >= 102.234375) & (df.MIP <= 102.6015625)) & (df.TARGET == 0)) | \n",
    "        (((df.MIP >= 77.4921875) & (df.MIP <= 83.7734375)) & (df.TARGET == 1))]\n",
    "print(sel.head())\n",
    "print('%.3f' % sel.MIP.mean())\n",
    "print(sel.shape)"
   ]
  },
  {
   "cell_type": "code",
   "execution_count": 69,
   "metadata": {},
   "outputs": [
    {
     "name": "stdout",
     "output_type": "stream",
     "text": [
      "(204, 8)\n",
      "            MIP      STDIP      EKIP       SIP         MC       STDC  \\\n",
      "97   102.320312  45.574104  0.321909  0.379148   4.402174  22.540145   \n",
      "155   80.640625  56.308821  1.481006  1.952136  27.807692  63.855448   \n",
      "221  102.507812  58.882430  0.465318 -0.515088   1.677258  14.860146   \n",
      "255  102.328125  48.980403  0.315729 -0.202183   1.898829  13.839040   \n",
      "564  102.351562  35.394339  0.409204  1.810187   6.056020  30.250449   \n",
      "\n",
      "           EKC          SC  \n",
      "97    6.377098   47.256396  \n",
      "155   2.179750    3.354892  \n",
      "221  10.576487  127.393580  \n",
      "255  11.619939  172.130373  \n",
      "564   5.505104   31.174180  \n"
     ]
    }
   ],
   "source": [
    "sel = sel.drop('TARGET',axis=1)\n",
    "print(sel.shape)\n",
    "print(sel.head())"
   ]
  },
  {
   "cell_type": "code",
   "execution_count": 71,
   "metadata": {},
   "outputs": [
    {
     "name": "stdout",
     "output_type": "stream",
     "text": [
      "204\n",
      "0.563\n",
      "(204, 8)\n"
     ]
    }
   ],
   "source": [
    "from sklearn.preprocessing import MinMaxScaler\n",
    "scaler = MinMaxScaler()\n",
    "scaler.fit(sel)\n",
    "st = scaler.transform(sel)\n",
    "print(len(st))\n",
    "stand= pd.DataFrame(scaler.transform(sel),columns = ['MIP','STDIP','EKIP','SIP','MC','STDC','EKC','SC'])\n",
    "print('%.3f' % stand.MIP.mean())\n",
    "print(stand.shape)"
   ]
  },
  {
   "cell_type": "code",
   "execution_count": 72,
   "metadata": {},
   "outputs": [
    {
     "name": "stdout",
     "output_type": "stream",
     "text": [
      "0.416\n"
     ]
    }
   ],
   "source": [
    "from sklearn.metrics import pairwise_distances\n",
    "star = np.array([[0.237,0.293,0.897,0.0,0.841,0.969,0.138,0.083]])\n",
    "print('%.3f' % float(min(pairwise_distances(st,star))[0]))"
   ]
  },
  {
   "cell_type": "code",
   "execution_count": null,
   "metadata": {},
   "outputs": [],
   "source": []
  }
 ],
 "metadata": {
  "kernelspec": {
   "display_name": "Python 3",
   "language": "python",
   "name": "python3"
  },
  "language_info": {
   "codemirror_mode": {
    "name": "ipython",
    "version": 3
   },
   "file_extension": ".py",
   "mimetype": "text/x-python",
   "name": "python",
   "nbconvert_exporter": "python",
   "pygments_lexer": "ipython3",
   "version": "3.7.4"
  }
 },
 "nbformat": 4,
 "nbformat_minor": 4
}
